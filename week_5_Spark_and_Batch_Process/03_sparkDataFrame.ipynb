{
 "cells": [
  {
   "cell_type": "code",
   "execution_count": 9,
   "id": "c9312f83",
   "metadata": {},
   "outputs": [],
   "source": [
    "import pyspark \n",
    "from pyspark.sql import SparkSession\n",
    "\n",
    "spark =  SparkSession.builder \\\n",
    "    .master('local[*]')\\\n",
    "    .appName('spark_dataframe') \\\n",
    "    .getOrCreate()"
   ]
  },
  {
   "cell_type": "code",
   "execution_count": 10,
   "id": "052fad2d",
   "metadata": {},
   "outputs": [
    {
     "name": "stderr",
     "output_type": "stream",
     "text": [
      "                                                                                \r"
     ]
    }
   ],
   "source": [
    "df = spark.read.parquet('fhvhv/2019/01')"
   ]
  },
  {
   "cell_type": "code",
   "execution_count": 11,
   "id": "f15c73e8",
   "metadata": {},
   "outputs": [
    {
     "name": "stdout",
     "output_type": "stream",
     "text": [
      "root\n",
      " |-- dispatching_base_num: string (nullable = true)\n",
      " |-- pickup_datetime: timestamp (nullable = true)\n",
      " |-- dropOff_datetime: timestamp (nullable = true)\n",
      " |-- PUlocationID: integer (nullable = true)\n",
      " |-- DOlocationID: integer (nullable = true)\n",
      " |-- SR_Flag: string (nullable = true)\n",
      " |-- Affiliated_base_number: string (nullable = true)\n",
      "\n"
     ]
    }
   ],
   "source": [
    "df.printSchema()"
   ]
  },
  {
   "cell_type": "code",
   "execution_count": 19,
   "id": "dada72f8",
   "metadata": {},
   "outputs": [],
   "source": [
    "from pyspark.sql import functions as F"
   ]
  },
  {
   "cell_type": "code",
   "execution_count": 31,
   "id": "e6a704f4",
   "metadata": {},
   "outputs": [],
   "source": [
    "# use define function\n",
    "def crazy_stuff(base_num):\n",
    "    num = int(base_num[1:])\n",
    "    if num & 7 == 0:\n",
    "        return f's/{num:03x}'\n",
    "    else:\n",
    "        return f'e{num:03x}'"
   ]
  },
  {
   "cell_type": "code",
   "execution_count": 32,
   "id": "9b8edd2b",
   "metadata": {},
   "outputs": [
    {
     "data": {
      "text/plain": [
       "'e016'"
      ]
     },
     "execution_count": 32,
     "metadata": {},
     "output_type": "execute_result"
    }
   ],
   "source": [
    "crazy_stuff('B022')"
   ]
  },
  {
   "cell_type": "code",
   "execution_count": 33,
   "id": "9bda115d",
   "metadata": {},
   "outputs": [
    {
     "ename": "NameError",
     "evalue": "name 'types' is not defined",
     "output_type": "error",
     "traceback": [
      "\u001b[0;31m---------------------------------------------------------------------------\u001b[0m",
      "\u001b[0;31mNameError\u001b[0m                                 Traceback (most recent call last)",
      "\u001b[0;32m/tmp/ipykernel_38140/3118421520.py\u001b[0m in \u001b[0;36m<module>\u001b[0;34m\u001b[0m\n\u001b[1;32m      1\u001b[0m \u001b[0;31m# convert the ffunction define to user define finction\u001b[0m\u001b[0;34m\u001b[0m\u001b[0;34m\u001b[0m\u001b[0m\n\u001b[0;32m----> 2\u001b[0;31m \u001b[0mcrazy_stuff_udf\u001b[0m \u001b[0;34m=\u001b[0m \u001b[0mF\u001b[0m\u001b[0;34m.\u001b[0m\u001b[0mudf\u001b[0m\u001b[0;34m(\u001b[0m\u001b[0mcrazy_stuff\u001b[0m\u001b[0;34m,\u001b[0m \u001b[0mreturnType\u001b[0m\u001b[0;34m=\u001b[0m\u001b[0mtypes\u001b[0m\u001b[0;34m.\u001b[0m\u001b[0mStringType\u001b[0m\u001b[0;34m(\u001b[0m\u001b[0;34m)\u001b[0m\u001b[0;34m)\u001b[0m\u001b[0;34m\u001b[0m\u001b[0;34m\u001b[0m\u001b[0m\n\u001b[0m",
      "\u001b[0;31mNameError\u001b[0m: name 'types' is not defined"
     ]
    }
   ],
   "source": [
    "# convert the ffunction define to user define finction\n",
    "crazy_stuff_udf = F.udf(crazy_stuff, returnType=types.StringType())"
   ]
  },
  {
   "cell_type": "code",
   "execution_count": 27,
   "id": "30397671",
   "metadata": {},
   "outputs": [
    {
     "name": "stdout",
     "output_type": "stream",
     "text": [
      "+-----------+------------+------------+------------+\n",
      "|pickup_date|dropoff_date|PUlocationID|DOlocationID|\n",
      "+-----------+------------+------------+------------+\n",
      "| 2019-10-01|  2019-10-01|         264|          85|\n",
      "| 2019-10-29|  2019-10-29|         121|          92|\n",
      "| 2019-10-31|  2019-10-31|         264|          18|\n",
      "| 2019-10-07|  2019-10-07|         159|         248|\n",
      "| 2019-10-11|  2019-10-11|         264|         247|\n",
      "| 2019-10-28|  2019-10-28|         264|         264|\n",
      "| 2019-10-21|  2019-10-21|         264|         177|\n",
      "| 2019-10-13|  2019-10-13|         264|          36|\n",
      "| 2019-10-11|  2019-10-11|         264|          74|\n",
      "| 2019-10-06|  2019-10-06|         264|          76|\n",
      "| 2019-10-29|  2019-10-29|         264|         200|\n",
      "| 2019-10-01|  2019-10-01|         264|         177|\n",
      "| 2019-10-16|  2019-10-16|         264|         168|\n",
      "| 2019-10-04|  2019-10-04|         264|         264|\n",
      "| 2019-10-19|  2019-10-19|         193|          80|\n",
      "| 2019-10-29|  2019-10-29|          84|         251|\n",
      "| 2019-10-26|  2019-10-26|         264|          17|\n",
      "| 2019-10-23|  2019-10-23|         264|          62|\n",
      "| 2019-10-25|  2019-10-25|         264|         116|\n",
      "| 2019-10-07|  2019-10-07|         264|         136|\n",
      "+-----------+------------+------------+------------+\n",
      "only showing top 20 rows\n",
      "\n"
     ]
    }
   ],
   "source": [
    "df\\\n",
    "    .withColumn('pickup_date', F.to_date(df.pickup_datetime))\\\n",
    "    .withColumn('dropoff_date', F.to_date(df.dropOff_datetime))\\\n",
    "    .select('pickup_date','dropoff_date','PUlocationID','DOlocationID')\\\n",
    "    .show()"
   ]
  },
  {
   "cell_type": "code",
   "execution_count": null,
   "id": "0f918ddf",
   "metadata": {},
   "outputs": [],
   "source": []
  },
  {
   "cell_type": "code",
   "execution_count": 14,
   "id": "8a9ad635",
   "metadata": {},
   "outputs": [
    {
     "name": "stderr",
     "output_type": "stream",
     "text": [
      "                                                                                \r"
     ]
    },
    {
     "name": "stdout",
     "output_type": "stream",
     "text": [
      "+-------------------+-------------------+------------+------------+\n",
      "|    pickup_datetime|   dropOff_datetime|PUlocationID|DOlocationID|\n",
      "+-------------------+-------------------+------------+------------+\n",
      "|2019-10-01 15:08:08|2019-10-01 15:19:09|         264|          85|\n",
      "|2019-10-29 05:15:00|2019-10-29 06:15:00|         121|          92|\n",
      "|2019-10-31 14:09:44|2019-10-31 14:37:12|         264|          18|\n",
      "|2019-10-07 12:19:29|2019-10-07 12:37:40|         159|         248|\n",
      "|2019-10-11 14:20:52|2019-10-11 14:59:08|         264|         247|\n",
      "|2019-10-28 12:00:06|2019-10-28 12:31:50|         264|         264|\n",
      "|2019-10-21 19:00:00|2019-10-21 19:04:13|         264|         177|\n",
      "|2019-10-13 18:09:24|2019-10-13 18:12:44|         264|          36|\n",
      "|2019-10-11 15:58:41|2019-10-11 16:40:19|         264|          74|\n",
      "|2019-10-06 13:50:20|2019-10-06 14:05:36|         264|          76|\n",
      "|2019-10-29 10:04:16|2019-10-29 10:19:35|         264|         200|\n",
      "|2019-10-01 11:47:33|2019-10-01 12:20:48|         264|         177|\n",
      "|2019-10-16 18:28:19|2019-10-16 19:15:40|         264|         168|\n",
      "|2019-10-04 13:55:30|2019-10-04 14:49:11|         264|         264|\n",
      "|2019-10-19 19:55:59|2019-10-19 21:08:35|         193|          80|\n",
      "|2019-10-29 09:38:41|2019-10-29 10:17:51|          84|         251|\n",
      "|2019-10-26 22:15:09|2019-10-26 22:20:08|         264|          17|\n",
      "|2019-10-23 06:22:00|2019-10-23 06:53:03|         264|          62|\n",
      "|2019-10-25 03:27:42|2019-10-25 03:34:44|         264|         116|\n",
      "|2019-10-07 03:45:01|2019-10-07 03:46:35|         264|         136|\n",
      "+-------------------+-------------------+------------+------------+\n",
      "only showing top 20 rows\n",
      "\n"
     ]
    }
   ],
   "source": [
    "df.select('pickup_datetime','dropOff_datetime','PUlocationID','DOlocationID')\\\n",
    "    .show()"
   ]
  },
  {
   "cell_type": "code",
   "execution_count": 13,
   "id": "db74fdac",
   "metadata": {},
   "outputs": [
    {
     "name": "stdout",
     "output_type": "stream",
     "text": [
      "head: cannot open 'head.csv' for reading: No such file or directory\r\n"
     ]
    }
   ],
   "source": [
    "!head -n 10 head.csv"
   ]
  },
  {
   "cell_type": "code",
   "execution_count": null,
   "id": "5374d95e",
   "metadata": {},
   "outputs": [],
   "source": []
  }
 ],
 "metadata": {
  "kernelspec": {
   "display_name": "Python 3 (ipykernel)",
   "language": "python",
   "name": "python3"
  },
  "language_info": {
   "codemirror_mode": {
    "name": "ipython",
    "version": 3
   },
   "file_extension": ".py",
   "mimetype": "text/x-python",
   "name": "python",
   "nbconvert_exporter": "python",
   "pygments_lexer": "ipython3",
   "version": "3.9.7"
  }
 },
 "nbformat": 4,
 "nbformat_minor": 5
}
